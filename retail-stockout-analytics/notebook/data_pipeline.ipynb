{
 "cells": [
  {
   "cell_type": "markdown",
   "id": "b9d480bf",
   "metadata": {},
   "source": [
    "# Retail Stockout Analytics Notebook\n",
    "This notebook demonstrates the data lifecycle: capture, processing, visualization."
   ]
  },
  {
   "cell_type": "markdown",
   "id": "b9af88ae",
   "metadata": {},
   "source": [
    "import pandas as pd\n",
    "\n",
    "import matplotlib.pyplot as plt\n",
    "\n",
    "\n",
    "\n",
    "df = pd.read_csv('../data/sales_data.csv')\n",
    "\n",
    "df.head()"
   ]
  }
 ],
 "metadata": {
  "language_info": {
   "name": "python"
  }
 },
 "nbformat": 4,
 "nbformat_minor": 5
}
